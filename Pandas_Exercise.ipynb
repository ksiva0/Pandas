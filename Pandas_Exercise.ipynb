{
 "cells": [
  {
   "cell_type": "code",
   "execution_count": 108,
   "id": "666fa17a",
   "metadata": {},
   "outputs": [],
   "source": [
    "import numpy as np\n",
    "import pandas as pd\n",
    "import matplotlib.pyplot as plt\n",
    "import seaborn as sns"
   ]
  },
  {
   "cell_type": "code",
   "execution_count": 109,
   "id": "30476e97",
   "metadata": {},
   "outputs": [
    {
     "data": {
      "text/html": [
       "<div>\n",
       "<style scoped>\n",
       "    .dataframe tbody tr th:only-of-type {\n",
       "        vertical-align: middle;\n",
       "    }\n",
       "\n",
       "    .dataframe tbody tr th {\n",
       "        vertical-align: top;\n",
       "    }\n",
       "\n",
       "    .dataframe thead th {\n",
       "        text-align: right;\n",
       "    }\n",
       "</style>\n",
       "<table border=\"1\" class=\"dataframe\">\n",
       "  <thead>\n",
       "    <tr style=\"text-align: right;\">\n",
       "      <th></th>\n",
       "      <th>Unnamed: 0</th>\n",
       "      <th>Date</th>\n",
       "      <th>Product</th>\n",
       "      <th>Revenue</th>\n",
       "      <th>Quantity</th>\n",
       "      <th>Year</th>\n",
       "      <th>Month</th>\n",
       "      <th>Total_Product_Revenue</th>\n",
       "      <th>Revenue Percentage</th>\n",
       "    </tr>\n",
       "  </thead>\n",
       "  <tbody>\n",
       "    <tr>\n",
       "      <th>0</th>\n",
       "      <td>0</td>\n",
       "      <td>2023-01-01</td>\n",
       "      <td>A</td>\n",
       "      <td>221</td>\n",
       "      <td>3</td>\n",
       "      <td>2023</td>\n",
       "      <td>1</td>\n",
       "      <td>774</td>\n",
       "      <td>28.552972</td>\n",
       "    </tr>\n",
       "    <tr>\n",
       "      <th>1</th>\n",
       "      <td>1</td>\n",
       "      <td>2023-01-01</td>\n",
       "      <td>B</td>\n",
       "      <td>111</td>\n",
       "      <td>8</td>\n",
       "      <td>2023</td>\n",
       "      <td>1</td>\n",
       "      <td>892</td>\n",
       "      <td>12.443946</td>\n",
       "    </tr>\n",
       "    <tr>\n",
       "      <th>2</th>\n",
       "      <td>2</td>\n",
       "      <td>2023-01-02</td>\n",
       "      <td>B</td>\n",
       "      <td>171</td>\n",
       "      <td>11</td>\n",
       "      <td>2023</td>\n",
       "      <td>1</td>\n",
       "      <td>892</td>\n",
       "      <td>19.170404</td>\n",
       "    </tr>\n",
       "    <tr>\n",
       "      <th>3</th>\n",
       "      <td>3</td>\n",
       "      <td>2023-01-02</td>\n",
       "      <td>A</td>\n",
       "      <td>141</td>\n",
       "      <td>15</td>\n",
       "      <td>2023</td>\n",
       "      <td>1</td>\n",
       "      <td>774</td>\n",
       "      <td>18.217054</td>\n",
       "    </tr>\n",
       "    <tr>\n",
       "      <th>4</th>\n",
       "      <td>4</td>\n",
       "      <td>2023-02-01</td>\n",
       "      <td>A</td>\n",
       "      <td>75</td>\n",
       "      <td>4</td>\n",
       "      <td>2023</td>\n",
       "      <td>2</td>\n",
       "      <td>774</td>\n",
       "      <td>9.689922</td>\n",
       "    </tr>\n",
       "    <tr>\n",
       "      <th>5</th>\n",
       "      <td>5</td>\n",
       "      <td>2023-02-01</td>\n",
       "      <td>B</td>\n",
       "      <td>90</td>\n",
       "      <td>12</td>\n",
       "      <td>2023</td>\n",
       "      <td>2</td>\n",
       "      <td>892</td>\n",
       "      <td>10.089686</td>\n",
       "    </tr>\n",
       "    <tr>\n",
       "      <th>6</th>\n",
       "      <td>6</td>\n",
       "      <td>2023-02-02</td>\n",
       "      <td>A</td>\n",
       "      <td>96</td>\n",
       "      <td>17</td>\n",
       "      <td>2023</td>\n",
       "      <td>2</td>\n",
       "      <td>774</td>\n",
       "      <td>12.403101</td>\n",
       "    </tr>\n",
       "    <tr>\n",
       "      <th>7</th>\n",
       "      <td>7</td>\n",
       "      <td>2023-02-02</td>\n",
       "      <td>B</td>\n",
       "      <td>170</td>\n",
       "      <td>10</td>\n",
       "      <td>2023</td>\n",
       "      <td>2</td>\n",
       "      <td>892</td>\n",
       "      <td>19.058296</td>\n",
       "    </tr>\n",
       "    <tr>\n",
       "      <th>8</th>\n",
       "      <td>8</td>\n",
       "      <td>2023-03-01</td>\n",
       "      <td>B</td>\n",
       "      <td>200</td>\n",
       "      <td>19</td>\n",
       "      <td>2023</td>\n",
       "      <td>3</td>\n",
       "      <td>892</td>\n",
       "      <td>22.421525</td>\n",
       "    </tr>\n",
       "    <tr>\n",
       "      <th>9</th>\n",
       "      <td>9</td>\n",
       "      <td>2023-03-01</td>\n",
       "      <td>A</td>\n",
       "      <td>120</td>\n",
       "      <td>10</td>\n",
       "      <td>2023</td>\n",
       "      <td>3</td>\n",
       "      <td>774</td>\n",
       "      <td>15.503876</td>\n",
       "    </tr>\n",
       "    <tr>\n",
       "      <th>10</th>\n",
       "      <td>10</td>\n",
       "      <td>2023-03-02</td>\n",
       "      <td>A</td>\n",
       "      <td>121</td>\n",
       "      <td>12</td>\n",
       "      <td>2023</td>\n",
       "      <td>3</td>\n",
       "      <td>774</td>\n",
       "      <td>15.633075</td>\n",
       "    </tr>\n",
       "    <tr>\n",
       "      <th>11</th>\n",
       "      <td>11</td>\n",
       "      <td>2023-03-02</td>\n",
       "      <td>B</td>\n",
       "      <td>150</td>\n",
       "      <td>5</td>\n",
       "      <td>2023</td>\n",
       "      <td>3</td>\n",
       "      <td>892</td>\n",
       "      <td>16.816143</td>\n",
       "    </tr>\n",
       "  </tbody>\n",
       "</table>\n",
       "</div>"
      ],
      "text/plain": [
       "    Unnamed: 0        Date Product  Revenue  Quantity  Year  Month  \\\n",
       "0            0  2023-01-01       A      221         3  2023      1   \n",
       "1            1  2023-01-01       B      111         8  2023      1   \n",
       "2            2  2023-01-02       B      171        11  2023      1   \n",
       "3            3  2023-01-02       A      141        15  2023      1   \n",
       "4            4  2023-02-01       A       75         4  2023      2   \n",
       "5            5  2023-02-01       B       90        12  2023      2   \n",
       "6            6  2023-02-02       A       96        17  2023      2   \n",
       "7            7  2023-02-02       B      170        10  2023      2   \n",
       "8            8  2023-03-01       B      200        19  2023      3   \n",
       "9            9  2023-03-01       A      120        10  2023      3   \n",
       "10          10  2023-03-02       A      121        12  2023      3   \n",
       "11          11  2023-03-02       B      150         5  2023      3   \n",
       "\n",
       "    Total_Product_Revenue  Revenue Percentage  \n",
       "0                     774           28.552972  \n",
       "1                     892           12.443946  \n",
       "2                     892           19.170404  \n",
       "3                     774           18.217054  \n",
       "4                     774            9.689922  \n",
       "5                     892           10.089686  \n",
       "6                     774           12.403101  \n",
       "7                     892           19.058296  \n",
       "8                     892           22.421525  \n",
       "9                     774           15.503876  \n",
       "10                    774           15.633075  \n",
       "11                    892           16.816143  "
      ]
     },
     "execution_count": 109,
     "metadata": {},
     "output_type": "execute_result"
    }
   ],
   "source": [
    "df = pd.read_csv(r\"C:\\Users\\master\\Documents\\pandas\\groupbyExcercise.csv\")\n",
    "\n",
    "df"
   ]
  },
  {
   "cell_type": "code",
   "execution_count": 110,
   "id": "edd1e027",
   "metadata": {},
   "outputs": [
    {
     "name": "stdout",
     "output_type": "stream",
     "text": [
      "<class 'pandas.core.frame.DataFrame'>\n",
      "RangeIndex: 12 entries, 0 to 11\n",
      "Data columns (total 9 columns):\n",
      " #   Column                 Non-Null Count  Dtype  \n",
      "---  ------                 --------------  -----  \n",
      " 0   Unnamed: 0             12 non-null     int64  \n",
      " 1   Date                   12 non-null     object \n",
      " 2   Product                12 non-null     object \n",
      " 3   Revenue                12 non-null     int64  \n",
      " 4   Quantity               12 non-null     int64  \n",
      " 5   Year                   12 non-null     int64  \n",
      " 6   Month                  12 non-null     int64  \n",
      " 7   Total_Product_Revenue  12 non-null     int64  \n",
      " 8   Revenue Percentage     12 non-null     float64\n",
      "dtypes: float64(1), int64(6), object(2)\n",
      "memory usage: 996.0+ bytes\n"
     ]
    }
   ],
   "source": [
    "df.info()"
   ]
  },
  {
   "cell_type": "code",
   "execution_count": 111,
   "id": "192e7852",
   "metadata": {},
   "outputs": [
    {
     "data": {
      "text/html": [
       "<div>\n",
       "<style scoped>\n",
       "    .dataframe tbody tr th:only-of-type {\n",
       "        vertical-align: middle;\n",
       "    }\n",
       "\n",
       "    .dataframe tbody tr th {\n",
       "        vertical-align: top;\n",
       "    }\n",
       "\n",
       "    .dataframe thead th {\n",
       "        text-align: right;\n",
       "    }\n",
       "</style>\n",
       "<table border=\"1\" class=\"dataframe\">\n",
       "  <thead>\n",
       "    <tr style=\"text-align: right;\">\n",
       "      <th></th>\n",
       "      <th>Unnamed: 0</th>\n",
       "      <th>Revenue</th>\n",
       "      <th>Quantity</th>\n",
       "      <th>Year</th>\n",
       "      <th>Month</th>\n",
       "      <th>Total_Product_Revenue</th>\n",
       "      <th>Revenue Percentage</th>\n",
       "    </tr>\n",
       "  </thead>\n",
       "  <tbody>\n",
       "    <tr>\n",
       "      <th>count</th>\n",
       "      <td>12.000000</td>\n",
       "      <td>12.000000</td>\n",
       "      <td>12.00</td>\n",
       "      <td>12.0</td>\n",
       "      <td>12.000000</td>\n",
       "      <td>12.00000</td>\n",
       "      <td>12.000000</td>\n",
       "    </tr>\n",
       "    <tr>\n",
       "      <th>mean</th>\n",
       "      <td>5.500000</td>\n",
       "      <td>138.833333</td>\n",
       "      <td>10.50</td>\n",
       "      <td>2023.0</td>\n",
       "      <td>2.000000</td>\n",
       "      <td>833.00000</td>\n",
       "      <td>16.666667</td>\n",
       "    </tr>\n",
       "    <tr>\n",
       "      <th>std</th>\n",
       "      <td>3.605551</td>\n",
       "      <td>45.095522</td>\n",
       "      <td>5.00</td>\n",
       "      <td>0.0</td>\n",
       "      <td>0.852803</td>\n",
       "      <td>61.62349</td>\n",
       "      <td>5.386673</td>\n",
       "    </tr>\n",
       "    <tr>\n",
       "      <th>min</th>\n",
       "      <td>0.000000</td>\n",
       "      <td>75.000000</td>\n",
       "      <td>3.00</td>\n",
       "      <td>2023.0</td>\n",
       "      <td>1.000000</td>\n",
       "      <td>774.00000</td>\n",
       "      <td>9.689922</td>\n",
       "    </tr>\n",
       "    <tr>\n",
       "      <th>25%</th>\n",
       "      <td>2.750000</td>\n",
       "      <td>107.250000</td>\n",
       "      <td>7.25</td>\n",
       "      <td>2023.0</td>\n",
       "      <td>1.000000</td>\n",
       "      <td>774.00000</td>\n",
       "      <td>12.433735</td>\n",
       "    </tr>\n",
       "    <tr>\n",
       "      <th>50%</th>\n",
       "      <td>5.500000</td>\n",
       "      <td>131.000000</td>\n",
       "      <td>10.50</td>\n",
       "      <td>2023.0</td>\n",
       "      <td>2.000000</td>\n",
       "      <td>833.00000</td>\n",
       "      <td>16.224609</td>\n",
       "    </tr>\n",
       "    <tr>\n",
       "      <th>75%</th>\n",
       "      <td>8.250000</td>\n",
       "      <td>170.250000</td>\n",
       "      <td>12.75</td>\n",
       "      <td>2023.0</td>\n",
       "      <td>3.000000</td>\n",
       "      <td>892.00000</td>\n",
       "      <td>19.086323</td>\n",
       "    </tr>\n",
       "    <tr>\n",
       "      <th>max</th>\n",
       "      <td>11.000000</td>\n",
       "      <td>221.000000</td>\n",
       "      <td>19.00</td>\n",
       "      <td>2023.0</td>\n",
       "      <td>3.000000</td>\n",
       "      <td>892.00000</td>\n",
       "      <td>28.552972</td>\n",
       "    </tr>\n",
       "  </tbody>\n",
       "</table>\n",
       "</div>"
      ],
      "text/plain": [
       "       Unnamed: 0     Revenue  Quantity    Year      Month  \\\n",
       "count   12.000000   12.000000     12.00    12.0  12.000000   \n",
       "mean     5.500000  138.833333     10.50  2023.0   2.000000   \n",
       "std      3.605551   45.095522      5.00     0.0   0.852803   \n",
       "min      0.000000   75.000000      3.00  2023.0   1.000000   \n",
       "25%      2.750000  107.250000      7.25  2023.0   1.000000   \n",
       "50%      5.500000  131.000000     10.50  2023.0   2.000000   \n",
       "75%      8.250000  170.250000     12.75  2023.0   3.000000   \n",
       "max     11.000000  221.000000     19.00  2023.0   3.000000   \n",
       "\n",
       "       Total_Product_Revenue  Revenue Percentage  \n",
       "count               12.00000           12.000000  \n",
       "mean               833.00000           16.666667  \n",
       "std                 61.62349            5.386673  \n",
       "min                774.00000            9.689922  \n",
       "25%                774.00000           12.433735  \n",
       "50%                833.00000           16.224609  \n",
       "75%                892.00000           19.086323  \n",
       "max                892.00000           28.552972  "
      ]
     },
     "execution_count": 111,
     "metadata": {},
     "output_type": "execute_result"
    }
   ],
   "source": [
    "df.describe()"
   ]
  },
  {
   "cell_type": "markdown",
   "id": "9eda56af",
   "metadata": {},
   "source": [
    "#### 1. Arrange DataFrame df, focusing on distinct product categories. Explore the data to reveal:\n",
    "\n",
    "    * Overall revenue insights\n",
    "    * Average revenue patterns\n",
    "    * Peak quantity sold observations\n",
    "    * Minimum quantity sold occurrences\n"
   ]
  },
  {
   "cell_type": "code",
   "execution_count": 112,
   "id": "b25a56ca",
   "metadata": {
    "scrolled": true
   },
   "outputs": [
    {
     "data": {
      "text/html": [
       "<div>\n",
       "<style scoped>\n",
       "    .dataframe tbody tr th:only-of-type {\n",
       "        vertical-align: middle;\n",
       "    }\n",
       "\n",
       "    .dataframe tbody tr th {\n",
       "        vertical-align: top;\n",
       "    }\n",
       "\n",
       "    .dataframe thead th {\n",
       "        text-align: right;\n",
       "    }\n",
       "</style>\n",
       "<table border=\"1\" class=\"dataframe\">\n",
       "  <thead>\n",
       "    <tr style=\"text-align: right;\">\n",
       "      <th></th>\n",
       "      <th>sum</th>\n",
       "      <th>mean</th>\n",
       "    </tr>\n",
       "    <tr>\n",
       "      <th>Product</th>\n",
       "      <th></th>\n",
       "      <th></th>\n",
       "    </tr>\n",
       "  </thead>\n",
       "  <tbody>\n",
       "    <tr>\n",
       "      <th>A</th>\n",
       "      <td>774</td>\n",
       "      <td>129.000000</td>\n",
       "    </tr>\n",
       "    <tr>\n",
       "      <th>B</th>\n",
       "      <td>892</td>\n",
       "      <td>148.666667</td>\n",
       "    </tr>\n",
       "  </tbody>\n",
       "</table>\n",
       "</div>"
      ],
      "text/plain": [
       "         sum        mean\n",
       "Product                 \n",
       "A        774  129.000000\n",
       "B        892  148.666667"
      ]
     },
     "execution_count": 112,
     "metadata": {},
     "output_type": "execute_result"
    }
   ],
   "source": [
    "df.groupby(['Product'])['Revenue'].agg((np.sum, np.mean))"
   ]
  },
  {
   "cell_type": "code",
   "execution_count": 113,
   "id": "82bd4888",
   "metadata": {},
   "outputs": [
    {
     "data": {
      "text/html": [
       "<div>\n",
       "<style scoped>\n",
       "    .dataframe tbody tr th:only-of-type {\n",
       "        vertical-align: middle;\n",
       "    }\n",
       "\n",
       "    .dataframe tbody tr th {\n",
       "        vertical-align: top;\n",
       "    }\n",
       "\n",
       "    .dataframe thead th {\n",
       "        text-align: right;\n",
       "    }\n",
       "</style>\n",
       "<table border=\"1\" class=\"dataframe\">\n",
       "  <thead>\n",
       "    <tr style=\"text-align: right;\">\n",
       "      <th></th>\n",
       "      <th>amax</th>\n",
       "      <th>amin</th>\n",
       "    </tr>\n",
       "    <tr>\n",
       "      <th>Product</th>\n",
       "      <th></th>\n",
       "      <th></th>\n",
       "    </tr>\n",
       "  </thead>\n",
       "  <tbody>\n",
       "    <tr>\n",
       "      <th>A</th>\n",
       "      <td>17</td>\n",
       "      <td>3</td>\n",
       "    </tr>\n",
       "    <tr>\n",
       "      <th>B</th>\n",
       "      <td>19</td>\n",
       "      <td>5</td>\n",
       "    </tr>\n",
       "  </tbody>\n",
       "</table>\n",
       "</div>"
      ],
      "text/plain": [
       "         amax  amin\n",
       "Product            \n",
       "A          17     3\n",
       "B          19     5"
      ]
     },
     "execution_count": 113,
     "metadata": {},
     "output_type": "execute_result"
    }
   ],
   "source": [
    "df.groupby(['Product'])['Quantity'].agg((np.max, np.min))"
   ]
  },
  {
   "cell_type": "markdown",
   "id": "7248f2cb",
   "metadata": {},
   "source": [
    "#### 2 Aggregate DataFrame df by extracting the month and year from the 'Date' column. Calculate the collective revenue for each unique combination of month and year.\n"
   ]
  },
  {
   "cell_type": "code",
   "execution_count": 114,
   "id": "0e522184",
   "metadata": {},
   "outputs": [
    {
     "data": {
      "text/html": [
       "<div>\n",
       "<style scoped>\n",
       "    .dataframe tbody tr th:only-of-type {\n",
       "        vertical-align: middle;\n",
       "    }\n",
       "\n",
       "    .dataframe tbody tr th {\n",
       "        vertical-align: top;\n",
       "    }\n",
       "\n",
       "    .dataframe thead th {\n",
       "        text-align: right;\n",
       "    }\n",
       "</style>\n",
       "<table border=\"1\" class=\"dataframe\">\n",
       "  <thead>\n",
       "    <tr style=\"text-align: right;\">\n",
       "      <th></th>\n",
       "      <th>Year</th>\n",
       "      <th>Month</th>\n",
       "    </tr>\n",
       "    <tr>\n",
       "      <th>Revenue</th>\n",
       "      <th></th>\n",
       "      <th></th>\n",
       "    </tr>\n",
       "  </thead>\n",
       "  <tbody>\n",
       "    <tr>\n",
       "      <th>75</th>\n",
       "      <td>[2023]</td>\n",
       "      <td>[2]</td>\n",
       "    </tr>\n",
       "    <tr>\n",
       "      <th>90</th>\n",
       "      <td>[2023]</td>\n",
       "      <td>[2]</td>\n",
       "    </tr>\n",
       "    <tr>\n",
       "      <th>96</th>\n",
       "      <td>[2023]</td>\n",
       "      <td>[2]</td>\n",
       "    </tr>\n",
       "    <tr>\n",
       "      <th>111</th>\n",
       "      <td>[2023]</td>\n",
       "      <td>[1]</td>\n",
       "    </tr>\n",
       "    <tr>\n",
       "      <th>120</th>\n",
       "      <td>[2023]</td>\n",
       "      <td>[3]</td>\n",
       "    </tr>\n",
       "    <tr>\n",
       "      <th>121</th>\n",
       "      <td>[2023]</td>\n",
       "      <td>[3]</td>\n",
       "    </tr>\n",
       "    <tr>\n",
       "      <th>141</th>\n",
       "      <td>[2023]</td>\n",
       "      <td>[1]</td>\n",
       "    </tr>\n",
       "    <tr>\n",
       "      <th>150</th>\n",
       "      <td>[2023]</td>\n",
       "      <td>[3]</td>\n",
       "    </tr>\n",
       "    <tr>\n",
       "      <th>170</th>\n",
       "      <td>[2023]</td>\n",
       "      <td>[2]</td>\n",
       "    </tr>\n",
       "    <tr>\n",
       "      <th>171</th>\n",
       "      <td>[2023]</td>\n",
       "      <td>[1]</td>\n",
       "    </tr>\n",
       "    <tr>\n",
       "      <th>200</th>\n",
       "      <td>[2023]</td>\n",
       "      <td>[3]</td>\n",
       "    </tr>\n",
       "    <tr>\n",
       "      <th>221</th>\n",
       "      <td>[2023]</td>\n",
       "      <td>[1]</td>\n",
       "    </tr>\n",
       "  </tbody>\n",
       "</table>\n",
       "</div>"
      ],
      "text/plain": [
       "           Year Month\n",
       "Revenue              \n",
       "75       [2023]   [2]\n",
       "90       [2023]   [2]\n",
       "96       [2023]   [2]\n",
       "111      [2023]   [1]\n",
       "120      [2023]   [3]\n",
       "121      [2023]   [3]\n",
       "141      [2023]   [1]\n",
       "150      [2023]   [3]\n",
       "170      [2023]   [2]\n",
       "171      [2023]   [1]\n",
       "200      [2023]   [3]\n",
       "221      [2023]   [1]"
      ]
     },
     "execution_count": 114,
     "metadata": {},
     "output_type": "execute_result"
    }
   ],
   "source": [
    "df.groupby(['Revenue']).agg({'Year': 'unique', 'Month': 'unique'})"
   ]
  },
  {
   "cell_type": "code",
   "execution_count": 115,
   "id": "b1047218",
   "metadata": {},
   "outputs": [
    {
     "data": {
      "text/html": [
       "<div>\n",
       "<style scoped>\n",
       "    .dataframe tbody tr th:only-of-type {\n",
       "        vertical-align: middle;\n",
       "    }\n",
       "\n",
       "    .dataframe tbody tr th {\n",
       "        vertical-align: top;\n",
       "    }\n",
       "\n",
       "    .dataframe thead th {\n",
       "        text-align: right;\n",
       "    }\n",
       "</style>\n",
       "<table border=\"1\" class=\"dataframe\">\n",
       "  <thead>\n",
       "    <tr style=\"text-align: right;\">\n",
       "      <th></th>\n",
       "      <th></th>\n",
       "      <th></th>\n",
       "      <th>Revenue</th>\n",
       "    </tr>\n",
       "    <tr>\n",
       "      <th>Year</th>\n",
       "      <th>Month</th>\n",
       "      <th>Date</th>\n",
       "      <th></th>\n",
       "    </tr>\n",
       "  </thead>\n",
       "  <tbody>\n",
       "    <tr>\n",
       "      <th rowspan=\"6\" valign=\"top\">2023</th>\n",
       "      <th rowspan=\"2\" valign=\"top\">1</th>\n",
       "      <th>2023-01-01</th>\n",
       "      <td>332</td>\n",
       "    </tr>\n",
       "    <tr>\n",
       "      <th>2023-01-02</th>\n",
       "      <td>312</td>\n",
       "    </tr>\n",
       "    <tr>\n",
       "      <th rowspan=\"2\" valign=\"top\">2</th>\n",
       "      <th>2023-02-01</th>\n",
       "      <td>165</td>\n",
       "    </tr>\n",
       "    <tr>\n",
       "      <th>2023-02-02</th>\n",
       "      <td>266</td>\n",
       "    </tr>\n",
       "    <tr>\n",
       "      <th rowspan=\"2\" valign=\"top\">3</th>\n",
       "      <th>2023-03-01</th>\n",
       "      <td>320</td>\n",
       "    </tr>\n",
       "    <tr>\n",
       "      <th>2023-03-02</th>\n",
       "      <td>271</td>\n",
       "    </tr>\n",
       "  </tbody>\n",
       "</table>\n",
       "</div>"
      ],
      "text/plain": [
       "                       Revenue\n",
       "Year Month Date               \n",
       "2023 1     2023-01-01      332\n",
       "           2023-01-02      312\n",
       "     2     2023-02-01      165\n",
       "           2023-02-02      266\n",
       "     3     2023-03-01      320\n",
       "           2023-03-02      271"
      ]
     },
     "execution_count": 115,
     "metadata": {},
     "output_type": "execute_result"
    }
   ],
   "source": [
    "df.groupby(['Year', 'Month', 'Date']).agg({'Revenue': 'sum'})"
   ]
  },
  {
   "cell_type": "markdown",
   "id": "0e093a23",
   "metadata": {},
   "source": [
    "#### 3. Group the DataFrame df by the 'Date' column and find the date with the highest total revenue and the date with the highest total quantity sold."
   ]
  },
  {
   "cell_type": "code",
   "execution_count": 116,
   "id": "45628278",
   "metadata": {
    "scrolled": false
   },
   "outputs": [
    {
     "data": {
      "text/plain": [
       "Unnamed: 0                        0\n",
       "Date                     2023-01-01\n",
       "Product                           A\n",
       "Revenue                         221\n",
       "Quantity                          3\n",
       "Year                           2023\n",
       "Month                             1\n",
       "Total_Product_Revenue           774\n",
       "Revenue Percentage        28.552972\n",
       "Name: 0, dtype: object"
      ]
     },
     "execution_count": 116,
     "metadata": {},
     "output_type": "execute_result"
    }
   ],
   "source": [
    "df.loc[df['Revenue'].idxmax()]"
   ]
  },
  {
   "cell_type": "code",
   "execution_count": 117,
   "id": "0de690de",
   "metadata": {},
   "outputs": [
    {
     "data": {
      "text/plain": [
       "Unnamed: 0                        8\n",
       "Date                     2023-03-01\n",
       "Product                           B\n",
       "Revenue                         200\n",
       "Quantity                         19\n",
       "Year                           2023\n",
       "Month                             3\n",
       "Total_Product_Revenue           892\n",
       "Revenue Percentage        22.421525\n",
       "Name: 8, dtype: object"
      ]
     },
     "execution_count": 117,
     "metadata": {},
     "output_type": "execute_result"
    }
   ],
   "source": [
    "df.loc[df['Quantity'].idxmax()]"
   ]
  },
  {
   "cell_type": "code",
   "execution_count": 118,
   "id": "2290b928",
   "metadata": {},
   "outputs": [
    {
     "data": {
      "text/plain": [
       "Revenue     2023-01-01\n",
       "Quantity    2023-03-01\n",
       "dtype: object"
      ]
     },
     "execution_count": 118,
     "metadata": {},
     "output_type": "execute_result"
    }
   ],
   "source": [
    "df.groupby('Date').agg({'Revenue': 'sum', 'Quantity': 'sum'}).idxmax()"
   ]
  },
  {
   "cell_type": "markdown",
   "id": "191b73ec",
   "metadata": {},
   "source": [
    "#### 4. Group the DataFrame df by the Date and find products that have a total quantity sold greater than 10 and less than 15 ."
   ]
  },
  {
   "cell_type": "code",
   "execution_count": 119,
   "id": "ed9a8cac",
   "metadata": {
    "scrolled": true
   },
   "outputs": [
    {
     "data": {
      "text/plain": [
       "0     False\n",
       "1     False\n",
       "2      True\n",
       "3     False\n",
       "4     False\n",
       "5      True\n",
       "6     False\n",
       "7     False\n",
       "8     False\n",
       "9     False\n",
       "10     True\n",
       "11    False\n",
       "Name: Quantity, dtype: bool"
      ]
     },
     "execution_count": 119,
     "metadata": {},
     "output_type": "execute_result"
    }
   ],
   "source": [
    "(df['Quantity'] > 10) & (df['Quantity'] < 15)"
   ]
  },
  {
   "cell_type": "code",
   "execution_count": 129,
   "id": "8b08c88e",
   "metadata": {},
   "outputs": [
    {
     "data": {
      "text/plain": [
       "Date        Product\n",
       "2023-01-02  B          11\n",
       "2023-02-01  B          12\n",
       "2023-03-02  A          12\n",
       "Name: Quantity, dtype: int64"
      ]
     },
     "execution_count": 129,
     "metadata": {},
     "output_type": "execute_result"
    }
   ],
   "source": [
    "a = df.groupby(['Date', 'Product'])['Quantity'].sum()\n",
    "b = x[(x > 10) & (x < 15)]\n",
    "\n",
    "b"
   ]
  },
  {
   "cell_type": "markdown",
   "id": "9ee58c9b",
   "metadata": {},
   "source": [
    "#### 5. Group the DataFrame df by the 'Product' column and add a new column 'Revenue Percentage' that shows the percentage of each product's revenue relative to the total revenue for that product."
   ]
  },
  {
   "cell_type": "code",
   "execution_count": 121,
   "id": "efcb30b9",
   "metadata": {},
   "outputs": [
    {
     "data": {
      "text/plain": [
       "Product\n",
       "A    46.458583\n",
       "B    53.541417\n",
       "Name: Revenue, dtype: float64"
      ]
     },
     "execution_count": 121,
     "metadata": {},
     "output_type": "execute_result"
    }
   ],
   "source": [
    "a = df.groupby(['Product'])['Revenue'].sum()\n",
    "\n",
    "a / a.sum() * 100"
   ]
  },
  {
   "cell_type": "code",
   "execution_count": 125,
   "id": "4114c144",
   "metadata": {},
   "outputs": [
    {
     "data": {
      "text/plain": [
       "Product  Revenue\n",
       "A        75          9.689922\n",
       "         96         12.403101\n",
       "         120        15.503876\n",
       "         121        15.633075\n",
       "         141        18.217054\n",
       "         221        28.552972\n",
       "B        90         10.089686\n",
       "         111        12.443946\n",
       "         150        16.816143\n",
       "         170        19.058296\n",
       "         171        19.170404\n",
       "         200        22.421525\n",
       "Name: Revenue Percentage, dtype: float64"
      ]
     },
     "execution_count": 125,
     "metadata": {},
     "output_type": "execute_result"
    }
   ],
   "source": [
    "df.groupby(['Product','Revenue'])['Revenue Percentage'].mean()"
   ]
  },
  {
   "cell_type": "code",
   "execution_count": 127,
   "id": "4c233833",
   "metadata": {},
   "outputs": [
    {
     "data": {
      "text/plain": [
       "0     46.458583\n",
       "1     53.541417\n",
       "2     53.541417\n",
       "3     46.458583\n",
       "4     46.458583\n",
       "5     53.541417\n",
       "6     46.458583\n",
       "7     53.541417\n",
       "8     53.541417\n",
       "9     46.458583\n",
       "10    46.458583\n",
       "11    53.541417\n",
       "Name: Product, dtype: float64"
      ]
     },
     "execution_count": 127,
     "metadata": {},
     "output_type": "execute_result"
    }
   ],
   "source": [
    "per = a / a.sum() * 100\n",
    "df['Product'].map(per)\n"
   ]
  },
  {
   "cell_type": "code",
   "execution_count": null,
   "id": "054fc4a9",
   "metadata": {},
   "outputs": [],
   "source": []
  }
 ],
 "metadata": {
  "kernelspec": {
   "display_name": "Python 3 (ipykernel)",
   "language": "python",
   "name": "python3"
  },
  "language_info": {
   "codemirror_mode": {
    "name": "ipython",
    "version": 3
   },
   "file_extension": ".py",
   "mimetype": "text/x-python",
   "name": "python",
   "nbconvert_exporter": "python",
   "pygments_lexer": "ipython3",
   "version": "3.11.5"
  }
 },
 "nbformat": 4,
 "nbformat_minor": 5
}
